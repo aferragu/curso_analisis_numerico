{
 "cells": [
  {
   "cell_type": "markdown",
   "metadata": {
    "slideshow": {
     "slide_type": "slide"
    }
   },
   "source": [
    "# Minimos cuadrados lineales - Descomposicion QR\n",
    "\n",
    "En el problema de mínimos cuadrados lineales, dada una matriz $A$ y un vector $b$ (que dependen de los datos), debemos resolver:\n",
    "\n",
    "$$\\min_\\theta \\|b-A\\theta\\|^2.$$\n",
    "\n",
    "Como vimos anteriormente, la solución de lo anterior está dada por las **ecuaciones normales**:\n",
    "\n",
    "$$A^T A \\theta = A^T b.$$\n",
    "\n",
    "Este sistema se puede resolver escalerizando. Sin embargo, la matriz del sistema $A^T A$ puede presentar problemas numéricos."
   ]
  },
  {
   "cell_type": "markdown",
   "metadata": {
    "slideshow": {
     "slide_type": "slide"
    }
   },
   "source": [
    "## Número de condición de una matriz\n",
    "\n",
    "El **número de condición** de una matriz es una medida de cómo se propagan los errores al aplicar la matriz a un vector cualquiera. Veremos que al resolver *numéricamente* un sistema lineal, el no. de condición determina cuánta confianza podemos tener en la solución.\n",
    "\n",
    "### Norma de una matriz\n",
    "\n",
    "> **Definición:** La norma de una matriz $\\|A\\|$ se define como:\n",
    ">\n",
    "> $$\\|A\\| = \\sup_{u\\neq 0} \\frac{\\|Au\\|}{\\|u\\|}.$$\n",
    "\n",
    "Es decir, $\\|A\\|$ es una medida de cuánto amplifica una matriz en el peor caso. El vector $u$ que alcanza el maximo es la dirección que más amplifica."
   ]
  },
  {
   "cell_type": "markdown",
   "metadata": {
    "slideshow": {
     "slide_type": "slide"
    }
   },
   "source": [
    "De la definición anterior se tiene la siguiente cota. Si $A$ es una matriz $m\\times n$ entonces:\n",
    "\n",
    "$$\\| A x \\| \\leqslant \\|A\\|\\|x\\| \\quad \\forall x\\in \\mathbb{R}^n.$$\n",
    "\n",
    "Usemos ahora esta cota para hallar una cota del error cometido al resolver un sistema lineal."
   ]
  },
  {
   "cell_type": "markdown",
   "metadata": {
    "slideshow": {
     "slide_type": "slide"
    }
   },
   "source": [
    "### Cota del error en un sistema lineal\n",
    "\n",
    "Supongamos que tenemos el sistema lineal $Ax=b$ con $A$ de $n\\times n$ invertible (es decir, el sistema es compatible determinado). Sea $x$ la solución.\n",
    "\n",
    "Supongamos que el vector $b$ se conoce con un error $\\delta b$, al resolver el sistema:\n",
    "\n",
    "$$ A \\tilde{x} = b+\\delta b$$\n",
    "\n",
    "hallaremos una solución $\\tilde{x}=x+\\delta x$ con un cierto error. Se desea acotar el mismo.\n"
   ]
  },
  {
   "cell_type": "markdown",
   "metadata": {
    "slideshow": {
     "slide_type": "slide"
    }
   },
   "source": [
    "Observemos que el error verifica:\n",
    "\n",
    "$$A\\tilde{x} = b+\\delta b \\Rightarrow A(x+\\delta x) = b + \\delta b \\Rightarrow A\\delta x = \\delta b.$$\n",
    "\n",
    "De donde $\\delta x = A^{-1}\\delta b$. Usando la cota anterior tenemos:\n",
    "\n",
    "$$\\|\\delta x\\| \\leqslant \\|A^{-1}\\| \\|\\delta b\\|.$$\n",
    "\n",
    "A su vez:\n",
    "\n",
    "$$Ax = b \\Rightarrow \\|b\\| \\leqslant \\|A\\|\\|x\\|.$$"
   ]
  },
  {
   "cell_type": "markdown",
   "metadata": {
    "slideshow": {
     "slide_type": "slide"
    }
   },
   "source": [
    "Multiplicando ambas desigualdades se tiene que:\n",
    "\n",
    "$$\\|\\delta x\\| \\|b\\| \\leqslant \\|A\\| \\|A^{-1}\\| \\|x\\|\\|\\delta b\\|,$$\n",
    "\n",
    "o bien:\n",
    "\n",
    "$$\\frac{\\|\\delta x\\|}{\\|x\\|} \\leqslant \\|A\\| \\|A^{-1}\\|\\frac{\\|\\delta b\\|}{\\|b\\|}$$\n",
    "\n",
    "Es decir, el error relativo en la solución se amplifica tanto como $\\|A\\|\\|A^{-1}\\|$.\n"
   ]
  },
  {
   "cell_type": "markdown",
   "metadata": {
    "slideshow": {
     "slide_type": "slide"
    }
   },
   "source": [
    "> **Definición:** Dada una matriz $A$ de $n\\times n$ invertible, se define el **número de condición** de $A$ como:\n",
    ">\n",
    "> $$\\textrm{cond}(A) = \\|A\\|\\|A^{-1}\\|$$.\n",
    "\n",
    "\n",
    "### Ejemplos:\n",
    "\n",
    "* Si $A=Id$, entonces $\\textrm{cond}(A) = 1$.\n",
    "* Si $A$ simétrica, entonces $\\textrm{cond}(A) = \\lambda_{max}/\\lambda_{min}$.\n",
    "* En general, si las columnas de $A$ están \"cerca\" de ser linealmente dependientes, el no. de condición se vuelve grande. "
   ]
  },
  {
   "cell_type": "code",
   "execution_count": 1,
   "metadata": {
    "slideshow": {
     "slide_type": "slide"
    }
   },
   "outputs": [
    {
     "name": "stdout",
     "output_type": "stream",
     "text": [
      "No. de condicion: 3.0000011023786316e9\n"
     ]
    },
    {
     "data": {
      "text/plain": [
       "3×3 Array{Float64,2}:\n",
       " 1.0  1.0  1.0\n",
       " 1.0  1.0  1.0\n",
       " 1.0  1.0  1.0"
      ]
     },
     "execution_count": 1,
     "metadata": {},
     "output_type": "execute_result"
    }
   ],
   "source": [
    "using LinearAlgebra\n",
    "\n",
    "# Ejemplo de no. de condición: cuando epsilon se acerca a 1, la matriz es no invertible.\n",
    "n=3;\n",
    "\n",
    "Id=Matrix(I, 3, 3)\n",
    "epsilon = 0.999999999;\n",
    "M = ones(n,n) - Id;\n",
    "\n",
    "\n",
    "A = Id + epsilon*M\n",
    "\n",
    "println(\"No. de condicion: $(cond(A))\")\n",
    "A"
   ]
  },
  {
   "cell_type": "markdown",
   "metadata": {
    "slideshow": {
     "slide_type": "slide"
    }
   },
   "source": [
    "### Número de condición y ecuaciones normales.\n",
    "\n",
    "Si $A$ no es cuadrada, también se define su no. de condición y se verifica que:\n",
    "\n",
    "$$ \\textrm{cond}(A^T A) = \\textrm{cond}(A)^2 $$.\n",
    "\n",
    "Es decir, si el número de condición de $A$ es grande, el mismo se ve amplificado al hacer la operación $A^T A$. Por lo tanto, las ecuaciones normales tendrán un no. de condición alto y son propensas a errores numéricos."
   ]
  },
  {
   "cell_type": "markdown",
   "metadata": {
    "slideshow": {
     "slide_type": "slide"
    }
   },
   "source": [
    "### Ejemplo: matriz de Vandermonde\n",
    "\n",
    "Dado un vector $x=(x_1,\\ldots,x_m)$ la matriz de Vandermonde es la que surge de realizar el ajuste a un polinomio:\n",
    "\n",
    "$$A=\\left(\\begin{array}{cccc} 1 & x_1 & \\ldots & x_1^p \\\\ 1 & x_2 & \\ldots & x_2^p  \\\\ \\vdots & \\vdots & \\ddots &\\vdots \\\\ 1 & x_m & \\ldots & x_m^p  \\end{array}\\right).$$"
   ]
  },
  {
   "cell_type": "code",
   "execution_count": 2,
   "metadata": {
    "slideshow": {
     "slide_type": "slide"
    }
   },
   "outputs": [
    {
     "name": "stdout",
     "output_type": "stream",
     "text": [
      "No de condicion de A: 2.065164074052632e10\n"
     ]
    },
    {
     "data": {
      "text/plain": [
       "100×6 Array{Float64,2}:\n",
       " 1.0    1.0      1.0       1.0        1.0             1.0\n",
       " 1.0    2.0      4.0       8.0       16.0            32.0\n",
       " 1.0    3.0      9.0      27.0       81.0           243.0\n",
       " 1.0    4.0     16.0      64.0      256.0          1024.0\n",
       " 1.0    5.0     25.0     125.0      625.0          3125.0\n",
       " 1.0    6.0     36.0     216.0     1296.0          7776.0\n",
       " 1.0    7.0     49.0     343.0     2401.0         16807.0\n",
       " 1.0    8.0     64.0     512.0     4096.0         32768.0\n",
       " 1.0    9.0     81.0     729.0     6561.0         59049.0\n",
       " 1.0   10.0    100.0    1000.0    10000.0        100000.0\n",
       " 1.0   11.0    121.0    1331.0    14641.0        161051.0\n",
       " 1.0   12.0    144.0    1728.0    20736.0        248832.0\n",
       " 1.0   13.0    169.0    2197.0    28561.0        371293.0\n",
       " ⋮                                                    ⋮\n",
       " 1.0   89.0   7921.0  704969.0        6.27422e7       5.58406e9\n",
       " 1.0   90.0   8100.0  729000.0        6.561e7         5.9049e9\n",
       " 1.0   91.0   8281.0  753571.0        6.8575e7        6.24032e9\n",
       " 1.0   92.0   8464.0  778688.0        7.16393e7       6.59082e9\n",
       " 1.0   93.0   8649.0  804357.0        7.48052e7       6.95688e9\n",
       " 1.0   94.0   8836.0  830584.0        7.80749e7       7.33904e9\n",
       " 1.0   95.0   9025.0  857375.0        8.14506e7       7.73781e9\n",
       " 1.0   96.0   9216.0  884736.0        8.49347e7       8.15373e9\n",
       " 1.0   97.0   9409.0  912673.0        8.85293e7       8.58734e9\n",
       " 1.0   98.0   9604.0  941192.0        9.22368e7       9.03921e9\n",
       " 1.0   99.0   9801.0  970299.0        9.60596e7       9.5099e9\n",
       " 1.0  100.0  10000.0       1.0e6      1.0e8           1.0e10"
      ]
     },
     "execution_count": 2,
     "metadata": {},
     "output_type": "execute_result"
    }
   ],
   "source": [
    "#No.de condicion de la matriz de Vandermonde\n",
    "\n",
    "x=collect(1:1:100)\n",
    "\n",
    "A=ones(size(x));\n",
    "p=5;\n",
    "\n",
    "for i=1:p\n",
    "    \n",
    "    A=[A x.^i]\n",
    "    \n",
    "end\n",
    "\n",
    "println(\"No de condicion de A: $(cond(A))\")\n",
    "A\n"
   ]
  },
  {
   "cell_type": "markdown",
   "metadata": {
    "slideshow": {
     "slide_type": "slide"
    }
   },
   "source": [
    "## Descomposicion QR\n",
    "\n",
    "La descomposición QR de una matriz permite obtener una representación de la misma más manejable a la hora de resolver las ecuaciones normales.\n",
    "\n",
    "> **Proposición:** Dada una matriz $A$ de $m\\times n$, existen dos matrices $Q$ y $R$ tales que:\n",
    ">\n",
    ">  $$ A = QR $$\n",
    ">\n",
    "> donde $Q$ es de $m\\times n$ y es ortogonal, es decir $Q^T Q = Id$. La matriz $R$ es $n\\times n$ y es triangular superior. Si las columnas de A son linealmente independientes, la matriz $R$ es además invertible.\n",
    "\n"
   ]
  },
  {
   "cell_type": "markdown",
   "metadata": {
    "slideshow": {
     "slide_type": "slide"
    }
   },
   "source": [
    "### Construcción de Q y R\n",
    "\n",
    "Para construir Q y R, se utiliza el *método de ortogonalización de Gram-Schmidt*.\n",
    "\n",
    "**Idea:** Se considera el subespacio de $\\mathbb{R}^m$ generado por las columnas de $A$. Las columnas de $Q$ serán una *base ortonormal* de dicho subespacio, construida a partir de las columnas de $A$. Las entradas de $R$ son las coordenadas de las columnas de $A$ en esa base.\n",
    "\n",
    "**Construcción:** Si $a_1,\\ldots,a_n$ son las columnas de $A$, se definen las columnas de $Q$ recursivamente como:\n",
    "\n",
    "$$ q_k = \\frac{a_k - \\sum_{i=1}^{k-1} <a_i,q_i> q_i}{\\|a_k - \\sum_{i=1}^{k-1} <a_i,q_i> q_i\\|}.$$"
   ]
  },
  {
   "cell_type": "markdown",
   "metadata": {
    "slideshow": {
     "slide_type": "slide"
    }
   },
   "source": [
    "**Observación:**\n",
    "\n",
    "$$a_k = \\sum_{i=1}^{k-1} <a_i,q_i> q_i + \\|q_k\\| q_k.$$\n",
    "\n",
    "Por lo tanto, la columna $k$ de $A$ solo tiene coordenadas en las primeras $k$ columnas de $Q$. Esto es lo que produce que $R$ sea triangular superior.\n",
    "\n",
    "En Julia, se puede obtener la descomposición simplemente haciendo `Q,R = qr(A)`."
   ]
  },
  {
   "cell_type": "code",
   "execution_count": 3,
   "metadata": {
    "slideshow": {
     "slide_type": "slide"
    }
   },
   "outputs": [
    {
     "data": {
      "text/plain": [
       "LinearAlgebra.QRCompactWY{Float64,Array{Float64,2}}\n",
       "Q factor:\n",
       "3×3 LinearAlgebra.QRCompactWYQ{Float64,Array{Float64,2}}:\n",
       " -0.57735   0.707107      0.408248\n",
       " -0.57735   1.11022e-16  -0.816497\n",
       " -0.57735  -0.707107      0.408248\n",
       "R factor:\n",
       "2×2 Array{Float64,2}:\n",
       " -1.73205  -3.4641\n",
       "  0.0      -1.41421"
      ]
     },
     "execution_count": 3,
     "metadata": {},
     "output_type": "execute_result"
    }
   ],
   "source": [
    "A=[1 1;1 2;1 3]\n",
    "Q,R=qr(A)\n",
    "\n",
    "#Q es un objeto de tipo QR del que se extrae la matriz Q m x n adecuada.\n",
    "#R es directo una matriz triangular superior con dimendión igual a las columnas de A."
   ]
  },
  {
   "cell_type": "markdown",
   "metadata": {
    "slideshow": {
     "slide_type": "slide"
    }
   },
   "source": [
    "### Aplicación de las descomposición a las ecuaciones normales\n",
    "\n",
    "Se desea resolver:\n",
    "\n",
    "$$A^T A \\theta = A^T b.$$\n",
    "\n",
    "Sustituyendo $A=QR$ queda:\n",
    "\n",
    "$$(QR)^T QR \\theta = (QR)^T b \\Leftrightarrow R^T Q^T Q R \\theta = R^T Q^T b.$$\n",
    "\n",
    "Usando que $Q^TQ = Id$ y que $R$ es invertible:\n",
    "\n",
    "$$R^T Q^T Q R \\theta = R^T Q^T b \\Leftrightarrow R^T R \\theta = R^T Q^T b \\Leftrightarrow R\\theta = Q^Tb.$$\n",
    "\n"
   ]
  },
  {
   "cell_type": "markdown",
   "metadata": {
    "slideshow": {
     "slide_type": "slide"
    }
   },
   "source": [
    "### Ecuaciones normales QR\n",
    "\n",
    "Las ecuaciones normales en QR son entonces:\n",
    "\n",
    "$$R\\theta = Q^T b.$$\n",
    "\n",
    "La ventaja aquí es que $R$ es triangular superior (por lo que no necesita escalerización) y además $\\textrm{cond}(R) = \\textrm{cond}(A)$, por lo que no hay amplificación de errores."
   ]
  },
  {
   "cell_type": "markdown",
   "metadata": {
    "slideshow": {
     "slide_type": "slide"
    }
   },
   "source": [
    "## Ejercicio\n",
    "\n",
    "1. Adaptar la funcion `ajuste(x,y,n)` de la clase anterior para que utilice la descomposición QR a la hora de ajustar un polinomio de grado $n$ a los datos $x,y$.\n",
    "\n",
    "2. Para los datos $x,y$ dados a continuación, calcular los coeficientes del ajuste para $n=10$ usando ambas funciones y observar las diferencias. Comparar los nos. de condición de $A$ y $A^TA$ utilizados. ¿Cuál método es entonces más confiable?"
   ]
  },
  {
   "cell_type": "code",
   "execution_count": 4,
   "metadata": {
    "slideshow": {
     "slide_type": "slide"
    }
   },
   "outputs": [
    {
     "data": {
      "image/png": "[encoded data removed]",
      "text/plain": [
       "Figure(PyObject <Figure size 640x480 with 1 Axes>)"
      ]
     },
     "metadata": {},
     "output_type": "display_data"
    }
   ],
   "source": [
    "using PyPlot\n",
    "\n",
    "x=collect(0:20)\n",
    "y=sin.(2*pi*x/40)\n",
    "\n",
    "plot(x,y,\"*\");"
   ]
  }
 ],
 "metadata": {
  "celltoolbar": "Slideshow",
  "kernelspec": {
   "display_name": "Julia 1.4.1",
   "language": "julia",
   "name": "julia-1.4"
  },
  "language_info": {
   "file_extension": ".jl",
   "mimetype": "application/julia",
   "name": "julia",
   "version": "1.4.1"
  }
 },
 "nbformat": 4,
 "nbformat_minor": 2
}

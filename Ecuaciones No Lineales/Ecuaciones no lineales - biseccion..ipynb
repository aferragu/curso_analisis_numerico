{
 "cells": [
  {
   "cell_type": "markdown",
   "metadata": {
    "slideshow": {
     "slide_type": "slide"
    }
   },
   "source": [
    "# Ecuaciones no lineales\n",
    "\n",
    "Dada $f:\\mathbb{R}\\to\\mathbb{R}$, se plantea el problema de hallar $\\alpha \\in \\mathbb{R}$ tal que:\n",
    "\n",
    "$$f(\\alpha) = 0.$$\n",
    "\n",
    "En general, $f$ es cualquier función, por lo que no necesariamente es posible \"despejar\" $\\alpha$. Debemos hallar la solución a lo anterior numéricamente.\n",
    "\n",
    "A modo de ejemplo, consideremos la función:\n",
    "\n",
    "$$f(x) = x\\log(x) - x$$\n",
    "\n",
    "con $x>0$.\n"
   ]
  },
  {
   "cell_type": "code",
   "execution_count": 4,
   "metadata": {
    "slideshow": {
     "slide_type": "slide"
    }
   },
   "outputs": [
    {
     "data": {
      "image/png": "[encoded data removed]",
      "text/plain": [
       "Figure(PyObject <Figure size 640x480 with 1 Axes>)"
      ]
     },
     "metadata": {},
     "output_type": "display_data"
    }
   ],
   "source": [
    "using PyPlot #paquete de graficos\n",
    "\n",
    "#defino la función a utilizar\n",
    "function f(x)\n",
    "    return x.*log.(x) - x;\n",
    "end;\n",
    "\n",
    "xx=(0.05:.05:5) #defino un intervalo de trabajo.\n",
    "\n",
    "plot(xx,f(xx))\n",
    "grid()\n"
   ]
  },
  {
   "cell_type": "markdown",
   "metadata": {
    "slideshow": {
     "slide_type": "slide"
    }
   },
   "source": [
    "## Método de bisección\n",
    "\n",
    "Este método simple se basa en el Teorema de Bolzano. Si $f$ continua y $f(a)f(b)<0$ con $a<b$ entonces existe $c\\in(a,b)$ tal que $f(c)=0$. El algoritmo es entonces:\n",
    "\n",
    "1. Elijo $a_0,b_0$ tal que $f(a_0)f(b_0)<0$.\n",
    "2. En el paso $k$, tomo $c_k = \\frac{a_k+b_k}{2}$.\n",
    "3. Si $f(a_k)f(c_k)<0$, tomo $a_{k+1}=a_k, b_{k+1} = c_{k}$. Si en cambio $f(c_k)f(b_k)<0$, tomo $a_{k+1}=c_k, b_{k+1} = b_k$.\n",
    "4. Tomo $k\\leftarrow k+1$ y vuelvo a 2.\n",
    "\n",
    "En cada paso, el intervalo $[a_k,b_k]$ contiene una raíz, y podemos considerar $c_k$, el centro del intervalo, como su estimación."
   ]
  },
  {
   "cell_type": "markdown",
   "metadata": {
    "slideshow": {
     "slide_type": "slide"
    }
   },
   "source": [
    "## Criterio de parada\n",
    "\n",
    "El algoritmo anterior debe completarse con un *criterio de parada*. Algunos posibles criterios son:\n",
    "\n",
    "* El error (relativo) de la estimación es menor a cierta tolerancia $tol_1$.\n",
    "* El valor de la función en el punto es cercano a $0$ a menos de cierta tolerancia $tol_2$.\n",
    "* El no. de iteraciones realizadas supera un cierto valor $maxiter$.\n",
    "\n",
    "## Implementación"
   ]
  },
  {
   "cell_type": "code",
   "execution_count": 20,
   "metadata": {
    "slideshow": {
     "slide_type": "slide"
    }
   },
   "outputs": [
    {
     "data": {
      "text/plain": [
       "biseccion (generic function with 1 method)"
      ]
     },
     "execution_count": 20,
     "metadata": {},
     "output_type": "execute_result"
    }
   ],
   "source": [
    "#Implemento el método de bisección. Los parámetros son la función, el intervalo inicial [a0,b0], las tolerancias de error y el máximo no. de iteraciones.\n",
    "#Devuelve la estimación de la raíz, el no. de iteraciones requeridas y la estimación del error en cada paso.\n",
    "\n",
    "function biseccion(f,a0,b0,tol1,tol2,maxiter)\n",
    "\n",
    "    #condicion inicial\n",
    "    a=a0;\n",
    "    b=b0;\n",
    "    c=(a0+b0)/2.0;\n",
    "    \n",
    "    k=0\n",
    "    err1=Inf;\n",
    "    err2=Inf;\n",
    "\n",
    "    #inicializo vectores vacíos para ir completando\n",
    "    E1=Array{Float64}[];\n",
    "    E2=Array{Float64}[];\n",
    "\n",
    "    while err1>tol1 && err2>tol2 && k<maxiter\n",
    "        \n",
    "        fc = f(c);\n",
    "    \n",
    "        if f(a)*fc<0\n",
    "            b=c;\n",
    "        elseif f(b)*fc<0\n",
    "            a=c;\n",
    "        end\n",
    "    \n",
    "        c=(a+b)/2.0;\n",
    "    \n",
    "        err1 = abs((c-a))\n",
    "        err2 = abs(f(c));\n",
    "    \n",
    "        #guardo los errores para graficar\n",
    "        E1 = [E1;err1];\n",
    "        E2 = [E2;err2];\n",
    "\n",
    "        k=k+1;\n",
    "    \n",
    "    end\n",
    "    \n",
    "    return c,k,E1,E2\n",
    "end"
   ]
  },
  {
   "cell_type": "code",
   "execution_count": 33,
   "metadata": {
    "slideshow": {
     "slide_type": "slide"
    }
   },
   "outputs": [
    {
     "name": "stdout",
     "output_type": "stream",
     "text": [
      "Estimación de la raíz: 1.4142135623260401\n",
      "Error final 1: 5.820766091346741e-11\n",
      "Error final 2: 1.3309153779061944e-10\n",
      "No. iteraciones: 35\n"
     ]
    }
   ],
   "source": [
    "a=1.0;\n",
    "b=5.0;\n",
    "tol1=1e-10;\n",
    "tol2=0;\n",
    "maxiter=100;\n",
    "    \n",
    "x,k,E1,E2 = biseccion(x->x^2-2,a,b,tol1,tol2,maxiter)\n",
    "\n",
    "println(\"Estimación de la raíz: $x\")\n",
    "println(\"Error final 1: $(E1[end])\")\n",
    "println(\"Error final 2: $(E2[end])\")\n",
    "println(\"No. iteraciones: $k\")"
   ]
  },
  {
   "cell_type": "code",
   "execution_count": 25,
   "metadata": {},
   "outputs": [
    {
     "data": {
      "text/plain": [
       "(2.7182818284491077, -9.937828338024701e-12)"
      ]
     },
     "execution_count": 25,
     "metadata": {},
     "output_type": "execute_result"
    }
   ],
   "source": [
    "x, f(x)"
   ]
  },
  {
   "cell_type": "markdown",
   "metadata": {
    "slideshow": {
     "slide_type": "slide"
    }
   },
   "source": [
    "## Evolución del error\n",
    "\n",
    "Queremos analizar ahora la evolución del error. Sea $x_k$ la estimación de la raíz en el paso $k$ (en el algoritmo anterior, el centro del intervalo). Definamos:\n",
    "\n",
    "$$E_k = |x_k-\\alpha|.$$\n",
    "\n",
    "Es fácil ver que, en el método de la bisección:\n",
    "\n",
    "$$E_k = |x_k - \\alpha| \\leqslant |b_k-a_k|/2$$.\n",
    "\n",
    "Siendo $a_k,b_k$ los extremos del intervalo en el paso $k$. Por lo tanto:\n",
    "\n",
    "$$E_{k+1} = |x_{k+1} - \\alpha| \\leqslant |b_{k+1}-a_{k+1}|/2 = |b_{k}-a_{k}|/4 = E_{k}/2$$.\n",
    "\n",
    "Es decir, el error cometido se reduce a la mitad en cada paso. Siguiendo con la recursión obtenemos:\n",
    "\n",
    "$$E_k \\leqslant E_{k-1}/2 \\leqslant E_{k-2}/2^2 \\leqslant \\ldots \\leqslant E_0/2^k.$$ \n",
    "\n",
    "El error decae entonces de manera geométrica, con razón $1/2$."
   ]
  },
  {
   "cell_type": "markdown",
   "metadata": {
    "slideshow": {
     "slide_type": "slide"
    }
   },
   "source": [
    "### Error en escala logarítmica\n",
    "\n",
    "Para ver lo anterior, conviene graficar la evolución del error en escala logarítmica contra el no. de pasos."
   ]
  },
  {
   "cell_type": "code",
   "execution_count": 30,
   "metadata": {
    "slideshow": {
     "slide_type": "fragment"
    }
   },
   "outputs": [
    {
     "data": {
      "image/png": "[encoded data removed]",
      "text/plain": [
       "Figure(PyObject <Figure size 640x480 with 1 Axes>)"
      ]
     },
     "metadata": {},
     "output_type": "display_data"
    }
   ],
   "source": [
    "semilogy((1:k),E1,\"*\")\n",
    "xticks(1:5:k)\n",
    "grid()"
   ]
  },
  {
   "cell_type": "markdown",
   "metadata": {
    "slideshow": {
     "slide_type": "slide"
    }
   },
   "source": [
    "En escala logarítmica, el error se ve como una recta ya que:\n",
    "\n",
    "$$\\log(E_k) \\approx \\log(E_{k-1}/2) = \\log(E_{k-1}) - \\log(2).$$\n",
    "\n",
    "Es decir, en cada paso, el logaritmo del error baja una constante ($\\log(2)$ en este caso). Por lo tanto:\n",
    "\n",
    "$$\\log(E_{k}) \\approx \\log(E_0) - k\\log(2).$$"
   ]
  },
  {
   "cell_type": "markdown",
   "metadata": {
    "slideshow": {
     "slide_type": "slide"
    }
   },
   "source": [
    "## Orden de un método iterativo de cálculo de raíces.\n",
    "\n",
    "> **Definición:** Para un método iterativo en el que $E_k\\to 0$ (es decir, converge a la solución), decimos que el método es de *orden* $p$ con *constante* $c$ si existe el límite:\n",
    ">\n",
    "> $$\\lim_{k\\to\\infty} \\frac{E_{k+1}}{E_{k}^p} = c$$\n",
    ">\n",
    "> con $0<c<\\infty$\n",
    "\n",
    "Interpretación: a medida que hacemos iteraciones, $E_{k+1} \\approx c E_k^p$."
   ]
  },
  {
   "cell_type": "markdown",
   "metadata": {
    "slideshow": {
     "slide_type": "slide"
    }
   },
   "source": [
    "### Ejemplo:\n",
    "\n",
    "En bisección $E_{k+1}\\approx \\frac{1}{2} E_k$ por lo que $p=1$ y $c=1/2$. Decimos que es un método *lineal* o de *orden 1*.\n",
    "\n",
    "### Comparación de métodos:\n",
    "\n",
    "* Si dos métodos iterativos $1$ y $2$ tienen órdenes $p_1>p_2$, entonces el método $1$ converge más rápido.\n",
    "* Si dos métodos iterativos $1$ y $2$ tienen órdenes $p_1=p_2$, y además $c_1<c_2$, entonces el método $1$ converge más rápido. "
   ]
  },
  {
   "cell_type": "markdown",
   "metadata": {
    "slideshow": {
     "slide_type": "slide"
    }
   },
   "source": [
    "## Ejercicio:\n",
    "\n",
    "Considere el método denominado *Regula Falsi*. En este método, a partir de un intervalo $[a,b]$ que contiene una raíz, se estima la misma como la raíz de la recta que pasa por $(a,f(a))$ y $(b,f(b))$. Sea $c$ dicho punto. Aplicando la misma idea de bisección, itere el procedimiento anterior hasta hallar la raíz de la función.\n",
    "\n",
    "Compare el error cometido al utilizar este método para la función anterior con el error en bisección. Muestre gráficamente que este método es del mismo orden, pero levemente más rápido. Estime la constante del método."
   ]
  }
 ],
 "metadata": {
  "@webio": {
   "lastCommId": null,
   "lastKernelId": null
  },
  "kernelspec": {
   "display_name": "Julia 1.3.1",
   "language": "julia",
   "name": "julia-1.3"
  },
  "language_info": {
   "file_extension": ".jl",
   "mimetype": "application/julia",
   "name": "julia",
   "version": "1.3.1"
  }
 },
 "nbformat": 4,
 "nbformat_minor": 2
}

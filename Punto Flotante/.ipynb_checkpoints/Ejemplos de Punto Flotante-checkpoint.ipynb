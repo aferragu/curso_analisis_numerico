{
 "cells": [
  {
   "cell_type": "markdown",
   "metadata": {
    "slideshow": {
     "slide_type": "slide"
    }
   },
   "source": [
    "# Ejemplos de Punto Flotante\n",
    "\n",
    "Se analizan a continuación ejemplos de errores cometidos por la representación en punto flotante. Trabajaremos con los tipos Float32 y Float64, que utilizan 32 y 64 bits para representar los números reales.\n",
    "\n",
    "La representación en punto flotante binario tiene la forma:\n",
    "\n",
    "$$FP(x) = (-1)^s \\times 1.x_1x_2x_3\\ldots x_n \\times 2^{e-e_0}$$\n",
    "\n",
    "La mantisa es $m=x_1x_2\\ldots x_n$ ($n$ bits), y $e$ es un exponente entero positivo (de $d$ bits). $e_0$ sirve simplemente para centrar el exponente, permitiendo entonces exponentes negativos y positivos en la representación. $s$ simplemente determina el signo."
   ]
  },
  {
   "cell_type": "markdown",
   "metadata": {
    "slideshow": {
     "slide_type": "slide"
    }
   },
   "source": [
    "## Punto flotante 32 bits\n",
    "\n",
    "En este caso, $n=23$ y $d=8$, es decir, $23$ bits de mantisa, $8$ de exponente y $1$ de signo. En este caso $e\\in\\{0,\\ldots,255\\}$ y se toma $e_0=127$, por lo que el exponente puede valer de $-127$ a $128$.\n",
    "\n",
    "* Maximo número positivo: $(-1)^0 \\times 1.11\\dots11 \\times 2^{127} = 2^{128} -2^{104}$.\n",
    "* Overflow $+\\infty$: $(-1)^0 \\times 1.00\\dots00 \\times 2^{128} = 2^{128}$.\n",
    "* Mínimo número positivo regular: $(-1)^0 \\times 1.00\\ldots00  \\times 2^{-127}$.\n",
    "* Mínimo número positivo: $(-1)^0 \\times 0.00\\ldots10 \\times 2^{-127} = 2^{-127-22} = 2^{-149}$.\n",
    "* Underflow $0^+$: $(-1)^0 \\times 0.00\\ldots01 \\times 2^{-127} = 2^{-150}$."
   ]
  },
  {
   "cell_type": "code",
   "execution_count": 1,
   "metadata": {
    "slideshow": {
     "slide_type": "subslide"
    }
   },
   "outputs": [
    {
     "name": "stdout",
     "output_type": "stream",
     "text": [
      "Máximo número positivo: 3.4028235e38\n",
      "Overflow: Inf\n",
      "Mínimo número positivo regular: 5.877472e-39\n",
      "Mínimo número positivo: 1.0e-45)\n",
      "Underflow: 0.0\n",
      "Underflow negativo: -0.0\n"
     ]
    }
   ],
   "source": [
    "println(\"Máximo número positivo: $(Float32(2.0^(128)-2.0^(128-24)))\")\n",
    "println(\"Overflow: $(Float32(2.0^(128)))\")\n",
    "println(\"Mínimo número positivo regular: $(Float32(2.0^(-127)))\")\n",
    "println(\"Mínimo número positivo: $(Float32(2.0^(-149))))\")\n",
    "println(\"Underflow: $(Float32(2.0^(-150)))\")\n",
    "println(\"Underflow negativo: $(Float32(-2.0^(-150)))\")\n",
    "\n"
   ]
  },
  {
   "cell_type": "markdown",
   "metadata": {
    "slideshow": {
     "slide_type": "slide"
    }
   },
   "source": [
    "## Punto flotante 64 bits\n",
    "\n",
    "En este caso, $n=52$ y $d=11$, es decir, $52$ bits de mantisa, $11$ de exponente y $1$ de signo. En este caso $e\\in\\{0,\\ldots,2048\\}$ y se toma $e_0=1023$, por lo que el exponente puede valer de $-1023$ a $1024$.\n",
    "\n",
    "* Maximo número positivo: $(-1)^0 \\times 1.11\\dots11 \\times 2^{1023} = 2^{1024} -2^{971} = 2^{971}(2^{53}-1)$.\n",
    "* Overflow $+\\infty$: $(-1)^0 \\times 1.00\\dots00 \\times 2^{1024} = 2^{1024}$.\n",
    "* Mínimo número positivo regular: $(-1)^0 \\times 1.00\\ldots00  \\times 2^{-1023}$.\n",
    "* Mínimo número positivo: $(-1)^0 \\times 0.00\\ldots10 \\times 2^{-1023} = 2^{-1023-51} = 2^{-1074}$.\n",
    "* Underflow $0^+$: $(-1)^0 \\times 0.00\\ldots01 \\times 2^{-1023} = 2^{-1075}$.\n"
   ]
  },
  {
   "cell_type": "code",
   "execution_count": 2,
   "metadata": {
    "slideshow": {
     "slide_type": "subslide"
    }
   },
   "outputs": [
    {
     "name": "stdout",
     "output_type": "stream",
     "text": [
      "Máximo número positivo: 1.7976931348623157e308\n",
      "Overflow: Inf\n",
      "Mínimo número positivo regular: 1.1125369292536007e-308\n",
      "Mínimo número positivo: 5.0e-324\n",
      "Underflow: 0.0\n",
      "Underflow negativo: -0.0\n"
     ]
    }
   ],
   "source": [
    "println(\"Máximo número positivo: $(2.0^(971)*(2.0^(53)-1))\")\n",
    "println(\"Overflow: $(2.0^(1024))\")\n",
    "println(\"Mínimo número positivo regular: $(2.0^(-1023))\")\n",
    "println(\"Mínimo número positivo: $(2.0^(-1074))\")\n",
    "println(\"Underflow: $(2.0^(-1075))\")\n",
    "println(\"Underflow negativo: $(-2.0^(-1075))\")\n",
    "\n"
   ]
  },
  {
   "cell_type": "markdown",
   "metadata": {
    "slideshow": {
     "slide_type": "slide"
    }
   },
   "source": [
    "## Errores de representación. Épsilon maquina.\n",
    "\n",
    "Cada número real $x$ se representa por su aproximación $FP(x)$ (por ejemplo, usando redondeo al más cercano). Esto lleva a un *error de representación* $E=|x-FP(x)|$. En sistemas de punto fijo, donde los números representables están equiespaciados, este error es constante, el largo del intervalo.\n",
    "\n",
    "En sistemas de punto flotante, que utilizan exponente, el *error relativo de representación es constante*. Sea:\n",
    "$$ \\epsilon_{mach} = \\inf\\{x:FP(x)>1\\} - 1.$$\n",
    "\n",
    "En otras palabras, $\\epsilon_{mach}$ es la distancia al primer número representable a la derecha de $1$. En punto flotante esto es $1.000\\ldots01\\times 2^0$. En FP de $32$ bits, $\\epsilon_{mach} = 2^{-23}$, en FP de $64$ bits es $\\epsilon_{mach} = 2^{-52}$."
   ]
  },
  {
   "cell_type": "code",
   "execution_count": 3,
   "metadata": {
    "slideshow": {
     "slide_type": "subslide"
    }
   },
   "outputs": [
    {
     "name": "stdout",
     "output_type": "stream",
     "text": [
      "Epsilon máquina Float32: 1.1920929e-7 == 1.1920929e-7\n",
      "Epsilon máquina Float64: 2.220446049250313e-16 == 2.220446049250313e-16\n"
     ]
    }
   ],
   "source": [
    "println(\"Epsilon máquina Float32: $(eps(Float32)) == $(Float32(2.0^(-23)))\")\n",
    "println(\"Epsilon máquina Float64: $(eps(Float64)) == $(2.0^(-52))\")"
   ]
  },
  {
   "cell_type": "markdown",
   "metadata": {
    "slideshow": {
     "slide_type": "slide"
    }
   },
   "source": [
    "### Cota del error relativo\n",
    "\n",
    "En sistemas de punto flotante, vale que:\n",
    "\n",
    "$$e(x) = \\frac{|x-FP(x)|}{|x|} \\leq \\epsilon_{mach}, $$\n",
    "\n",
    "o de modo equivalente $FP(x)=x(1+\\delta)$ con $|\\delta|\\leq \\epsilon_{mach}$."
   ]
  },
  {
   "cell_type": "markdown",
   "metadata": {
    "slideshow": {
     "slide_type": "subslide"
    }
   },
   "source": [
    "### Ejemplo"
   ]
  },
  {
   "cell_type": "code",
   "execution_count": 2,
   "metadata": {
    "slideshow": {
     "slide_type": "fragment"
    }
   },
   "outputs": [
    {
     "name": "stdout",
     "output_type": "stream",
     "text": [
      "Resultado de la suma: 1.4142135623841211e7\n",
      "Error absoluto: 0.0001102592796087265\n",
      "Error relativo = 7.796508430007412e-12\n",
      "Cota = 2.220446049250313e-9\n"
     ]
    }
   ],
   "source": [
    "s=0.0;\n",
    "x=sqrt(2);\n",
    "n=10000000;\n",
    "\n",
    "for i=1:n\n",
    "    s=s+x;\n",
    "end\n",
    "\n",
    "E=abs(n*x-s);\n",
    "e=abs(n*x-s)/(n*x);\n",
    "\n",
    "println(\"Resultado de la suma: $s\")\n",
    "println(\"Error absoluto: $E\")\n",
    "println(\"Error relativo = $e\");\n",
    "println(\"Cota = $(n*eps())\")"
   ]
  },
  {
   "cell_type": "markdown",
   "metadata": {
    "slideshow": {
     "slide_type": "slide"
    }
   },
   "source": [
    "### Ejemplo: suma de la serie armónica"
   ]
  },
  {
   "cell_type": "code",
   "execution_count": 9,
   "metadata": {
    "slideshow": {
     "slide_type": "fragment"
    }
   },
   "outputs": [
    {
     "name": "stdout",
     "output_type": "stream",
     "text": [
      "Suma creciente: 15.403683\n",
      "Suma decreciente: 16.790878\n"
     ]
    }
   ],
   "source": [
    "s1=Float32(0.0);\n",
    "s2=Float32(0.0);\n",
    "N=11000000;\n",
    "\n",
    "for i=1:N\n",
    "    s1=s1+Float32(1.0/i);\n",
    "end\n",
    "\n",
    "for i=N:-1:1\n",
    "    s2=s2+Float32(1.0/i);\n",
    "end\n",
    "\n",
    "println(\"Suma creciente: $s1\")\n",
    "println(\"Suma decreciente: $s2\")"
   ]
  },
  {
   "cell_type": "markdown",
   "metadata": {
    "slideshow": {
     "slide_type": "slide"
    }
   },
   "source": [
    "## Cancelación catastrófica\n",
    "\n",
    "Ocurre cuando en la operación, las cifras significativas del resultado ocurren fuera de las cifras de la representación. Al restar dos números de magnitudes similares por ejemplo, la diferencia puede tener un error amplificado (o incluso dar $0$).\n",
    "\n",
    "### Ejemplo\n",
    "\n",
    "Queremos calcular las raíces del polinomio $p(x) = x^2 - 10000x +1$\n",
    "\n",
    "La fórmula tradicional dice que:\n",
    "$$ x_1 = \\frac{10000 + \\sqrt{10000^2 -4}}{2}$$ y\n",
    "$$ x_2 = \\frac{10000 - \\sqrt{10000^2 -4}}{2}$$.\n"
   ]
  },
  {
   "cell_type": "code",
   "execution_count": 10,
   "metadata": {
    "slideshow": {
     "slide_type": "slide"
    }
   },
   "outputs": [
    {
     "name": "stdout",
     "output_type": "stream",
     "text": [
      "En Float32: x1=10000.0, x2=0.0\n",
      "En Float32: p(x1)=0.0, p(x2)=1.0\n"
     ]
    }
   ],
   "source": [
    "p(x) = 1-10000x+x^2\n",
    "raizp(a,b,c) = (-b+sqrt(b^2-4*a*c))/(2a)\n",
    "raizn(a,b,c) = (-b-sqrt(b^2-4*a*c))/(2a)\n",
    "\n",
    "x1 = raizp(Float32(1.0),Float32(-10000),Float32(1.0))\n",
    "x2 = raizn(Float32(1.0),Float32(-10000),Float32(1.0))\n",
    "\n",
    "println(\"En Float32: x1=$x1, x2=$x2\")\n",
    "println(\"En Float32: p(x1)=$(p(x1)), p(x2)=$(p(x2))\")\n"
   ]
  },
  {
   "cell_type": "markdown",
   "metadata": {
    "slideshow": {
     "slide_type": "slide"
    }
   },
   "source": [
    "Observar que $p(x_1)=1$ y $p(x_2)=1$ en este caso, por lo que los valores halladas *no son raíces del polinomio* (por bastante margen). En el primer caso, el problema es que el $-4$ no modifica suficiente el valor anterior como para ser visto en punto flotante (32 bits). En el segundo caso, es aún peor: la resta de números iguales en punto flotante produce un $0$ que no es tal.\n",
    "\n",
    "¿Cómo podemos resolverlo? Hay que buscar una forma de calcular que sea *numéricamente amigable* (más formalmente, numéricamente estable, es decir, que tenga en cuenta estos problemas). Esto dependerá de cada solución.\n",
    "\n",
    "En particular, en este problema podemos ver que $x_2=1/10000$ es una buena aproximación a una raíz. (También se puede hallar una raíz por bisección)."
   ]
  },
  {
   "cell_type": "code",
   "execution_count": 11,
   "metadata": {
    "slideshow": {
     "slide_type": "fragment"
    }
   },
   "outputs": [
    {
     "name": "stdout",
     "output_type": "stream",
     "text": [
      "x2=0.0001, p(x2) = 9.999999e-9\n"
     ]
    }
   ],
   "source": [
    "x2 = Float32(1/10000)\n",
    "println(\"x2=$x2, p(x2) = $(p(x2))\")\n"
   ]
  },
  {
   "cell_type": "markdown",
   "metadata": {
    "slideshow": {
     "slide_type": "slide"
    }
   },
   "source": [
    "Como además la suma de las raíces debe dar $10000$, podemos deducir $x_1$ (se puede bajar por Ruffini y despreciar el resto):"
   ]
  },
  {
   "cell_type": "code",
   "execution_count": 8,
   "metadata": {
    "slideshow": {
     "slide_type": "fragment"
    }
   },
   "outputs": [
    {
     "name": "stdout",
     "output_type": "stream",
     "text": [
      "x1=10000.0, p(x1) = 1.0\n"
     ]
    }
   ],
   "source": [
    "x1 = Float32(10000)-x2\n",
    "println(\"x1=$x1, p(x1) = $(p(x1))\")"
   ]
  },
  {
   "cell_type": "markdown",
   "metadata": {
    "slideshow": {
     "slide_type": "slide"
    }
   },
   "source": [
    "O sea, $x_1$ no cambia. Pero aquí el problema es insalvable: **la verdadera raíz está demasiado cerca de $10000$ como para que un sistema Float32 distinga la diferencia**. Al evaluar el polinomio, dicho error se ve amplificado. No hay solución a esto más que aumentar la resolución. Para referencia, los valores calculados con 64 bits son:"
   ]
  },
  {
   "cell_type": "code",
   "execution_count": 9,
   "metadata": {
    "slideshow": {
     "slide_type": "fragment"
    }
   },
   "outputs": [
    {
     "name": "stdout",
     "output_type": "stream",
     "text": [
      "En Float64: x1=9999.999899999999, x2=0.00010000000111176632\n",
      "En Float64: p(x1)=0.0, p(x2)=-1.1176630732023796e-9\n"
     ]
    }
   ],
   "source": [
    "x1 = raizp(1.0,-10000,1.0)\n",
    "x2 = raizn(1.0,-10000,1.0)\n",
    "\n",
    "println(\"En Float64: x1=$x1, x2=$x2\")\n",
    "println(\"En Float64: p(x1)=$(p(x1)), p(x2)=$(p(x2))\")\n"
   ]
  },
  {
   "cell_type": "code",
   "execution_count": 10,
   "metadata": {
    "slideshow": {
     "slide_type": "fragment"
    }
   },
   "outputs": [
    {
     "name": "stdout",
     "output_type": "stream",
     "text": [
      "10000.0\n"
     ]
    }
   ],
   "source": [
    "println(Float32(x1))"
   ]
  },
  {
   "cell_type": "code",
   "execution_count": 11,
   "metadata": {
    "slideshow": {
     "slide_type": "fragment"
    }
   },
   "outputs": [
    {
     "name": "stdout",
     "output_type": "stream",
     "text": [
      "9999.999\n"
     ]
    }
   ],
   "source": [
    "println(prevfloat(Float32(x1)))"
   ]
  },
  {
   "cell_type": "markdown",
   "metadata": {
    "slideshow": {
     "slide_type": "slide"
    }
   },
   "source": [
    "## Ejercicios\n",
    "\n",
    "1. Se desea calcular la expresión $f(x) = 1-\\cos(x)$ con $x\\approx 0$. Realice una gráfica tomando valores de $x$ de la forma $10^{-i}$ con $i$ entre $0$ y $16$. Explique lo que sucede y encuentre una forma de mejorar la precisión (por ejemplo, usando desarrollos de Taylor).\n",
    "\n",
    "2. Se desea calcular el arcoseno hiperbólico de un número negativo. El mismo tiene la expresión:\n",
    "\n",
    "    $$ \\textrm{asinh}(x) = \\log\\left(x+\\sqrt{x^2+1}\\right). $$\n",
    "\n",
    " Realice en cálculo para $x=-10^i$ con $i$ entre $1$ y $10$. Explique lo que sucede. ¿Cómo podemos corregir este problema?"
   ]
  },
  {
   "cell_type": "code",
   "execution_count": null,
   "metadata": {},
   "outputs": [],
   "source": []
  }
 ],
 "metadata": {
  "celltoolbar": "Slideshow",
  "kernelspec": {
   "display_name": "Julia 0.6.2",
   "language": "julia",
   "name": "julia-0.6"
  },
  "language_info": {
   "file_extension": ".jl",
   "mimetype": "application/julia",
   "name": "julia",
   "version": "0.6.2"
  }
 },
 "nbformat": 4,
 "nbformat_minor": 2
}
